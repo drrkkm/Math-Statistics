{
 "cells": [
  {
   "cell_type": "code",
   "execution_count": 1,
   "id": "8279f9c4-d8fd-4e74-9837-3af7c19b4465",
   "metadata": {},
   "outputs": [],
   "source": [
    "from math import exp, pi, sqrt\n",
    "import numpy as np\n",
    "import matplotlib.pyplot as plt\n",
    "from matplotlib import ticker\n",
    "\n",
    "from scipy.integrate import quad\n",
    "from scipy.special import gamma\n",
    "from scipy.optimize import minimize\n",
    "import scipy.stats as sps\n",
    "from tqdm import tqdm"
   ]
  },
  {
   "cell_type": "code",
   "execution_count": 2,
   "id": "a727cc1c-1850-44b1-870b-c6714ecceb06",
   "metadata": {},
   "outputs": [],
   "source": [
    "sample = [5, 8, 6, 12, 14, 18, 11, 6, 13, 7]\n",
    "n = 100"
   ]
  },
  {
   "cell_type": "code",
   "execution_count": 3,
   "id": "fdd9d7df-7948-4e19-9267-798912169569",
   "metadata": {},
   "outputs": [
    {
     "data": {
      "text/plain": [
       "(0.05898403054441968, 2.513395414959647e-10)"
      ]
     },
     "execution_count": 3,
     "metadata": {},
     "output_type": "execute_result"
    }
   ],
   "source": [
    "I = quad(sps.chi2(9).pdf, 16.4, float('inf'))\n",
    "I # p-value"
   ]
  },
  {
   "cell_type": "markdown",
   "id": "dad5b77e-e243-4705-b38b-26cd2f8a0a64",
   "metadata": {},
   "source": [
    "### Проверка гипотезы о согласии данных с законом равномерного распредления с помощью критерия $χ^2$ и с помощью критерия Колмогорова"
   ]
  },
  {
   "cell_type": "code",
   "execution_count": 4,
   "id": "e190a791-9e56-4a3d-91a2-80889d3c114c",
   "metadata": {},
   "outputs": [],
   "source": [
    "def calculate_edf(sample, n):\n",
    "    frequencies = np.array(sample) / 100\n",
    "    edf = np.array([np.sum(frequencies[:i + 1]) for i in range(len(sample))])\n",
    "    return edf\n",
    "\n",
    "def uniform_density(a, b, x): # равномерное\n",
    "    return (x - a) / (b - a)\n",
    "\n",
    "def kolmogorov_density(x): # колмогоровское\n",
    "    sum_result = 0\n",
    "    for i in range(1, 10000):\n",
    "        sum_result += (-1) ** i * exp(-2 * i ** 2 * x ** 2)\n",
    "    return 1 + 2 * sum_result\n",
    "\n",
    "def calculate_delta(sample, n, edf):\n",
    "    previous_height = 0\n",
    "    delta = -1\n",
    "    for i in range(len(sample)):\n",
    "        density_value = uniform_density(0, 9, i)\n",
    "        delta = max(abs(density_value - edf[i]), abs(density_value - previous_height), delta)\n",
    "        previous_height = edf[i]\n",
    "    delta *= sqrt(n)\n",
    "    return delta"
   ]
  },
  {
   "cell_type": "code",
   "execution_count": 5,
   "id": "28752da3-dd9f-483f-b7e9-97a846c9d61e",
   "metadata": {},
   "outputs": [
    {
     "name": "stdout",
     "output_type": "stream",
     "text": [
      "[0.05 0.13 0.19 0.31 0.45 0.63 0.74 0.8  0.93 1.  ]\n",
      "Дельта критерия Колмогорова: 1.4333333333333331\n",
      "p-value критерия Колмогорова: 0.032851885438597406\n"
     ]
    }
   ],
   "source": [
    "edf = calculate_edf(sample, n)\n",
    "print(edf)\n",
    "\n",
    "delta_kolm = calculate_delta(sample, n, edf) #\n",
    "print('Дельта критерия Колмогорова:', delta_kolm)\n",
    "\n",
    "print('p-value критерия Колмогорова:', 1 - kolmogorov_density(delta_kolm))"
   ]
  },
  {
   "cell_type": "markdown",
   "id": "40bcd3ae-0efb-4ab3-8697-3ed663e21dae",
   "metadata": {},
   "source": [
    "## Проверка гипотезы о согласии данных с законом нормального распределения с помощью критерий $χ^2$ и с помощью критерия Колмогорова"
   ]
  },
  {
   "cell_type": "code",
   "execution_count": 6,
   "id": "be97fce2-7f99-42ef-8e30-6b49319ab62e",
   "metadata": {},
   "outputs": [],
   "source": [
    "def normal_density(x, tetha_1, tetha_2):\n",
    "    return 1 / (sqrt(2 * pi) *  tetha_2) * exp(-((x - tetha_1) ** 2) / ((tetha_2 ** 2) * 2))\n",
    "\n",
    "\n",
    "def normal_function(x, tetha_1, tetha_2):\n",
    "    return quad(normal_density, x[0], x[1], args=(tetha_1, tetha_2))[0]\n",
    "\n",
    "def likelihood_function(parameters, sample):\n",
    "    mean, sigma = parameters\n",
    "    intervals = [[-float('inf'), 1]] + [[i + 1, i + 2] for i in range(8)] + [[9, float('inf')]]\n",
    "\n",
    "    func = 1\n",
    "    for i in range(len(intervals)):\n",
    "        func *= normal_function(intervals[i], mean, sigma) ** sample[i]\n",
    "    \n",
    "    return -func  # я сомневаюсь в этом, но предположим что максимум и минимум поменяются местами\n",
    "\n",
    "def find_parameters(sample):\n",
    "    start_point = [3, 2]\n",
    "    result = minimize(likelihood_function, start_point, args=(sample), method='Nelder-Mead')\n",
    "    mean, sigma = result.x\n",
    "    return mean, sigma"
   ]
  },
  {
   "cell_type": "code",
   "execution_count": 7,
   "id": "69588efa-f7e7-4789-a9cc-7fa2892a75bf",
   "metadata": {},
   "outputs": [
    {
     "name": "stdout",
     "output_type": "stream",
     "text": [
      "Оценки параметров ОМПГ: cреднее = 5.289737726548878 отклонение = 2.6795139919364033\n",
      "Дельта для критерия χ²: 9.802444291486268\n",
      "p-value критерия χ²: 0.20004793606221866\n"
     ]
    }
   ],
   "source": [
    "mean, sigma = find_parameters(sample)\n",
    "print('Оценки параметров ОМПГ: cреднее =', mean, 'отклонение =', sigma)\n",
    "\n",
    "\n",
    "intervals = [[-float('inf'), 1]] + [[i + 1, i + 2] for i in range(8)] + [[9, float('inf')]]\n",
    "delta = 0\n",
    "\n",
    "for i in range(len(sample)):\n",
    "    np_ = n * normal_function(intervals[i], mean, sigma)\n",
    "    delta += (sample[i] - np_) ** 2 / np_\n",
    "print('Дельта для критерия χ²:', delta)\n",
    "\n",
    "\n",
    "p_value_ompg = quad(sps.chi2(7).pdf, delta, float('inf'))[0]\n",
    "print('p-value критерия χ²:', p_value_ompg)"
   ]
  },
  {
   "cell_type": "code",
   "execution_count": 9,
   "id": "68a3bce4-b484-4cb7-be1d-81707b917206",
   "metadata": {},
   "outputs": [],
   "source": [
    "N = 50000\n",
    "\n",
    "\n",
    "def calculate_sample(bootstrap_sample):\n",
    "    borders =  [-float('inf'), 0, 1, 2, 3, 4, 5, 6, 7, 8, 9, float('inf')]\n",
    "    sample = []\n",
    "    for i in range(len(borders) - 1):\n",
    "        a = bootstrap_sample[bootstrap_sample < borders[i + 1]]\n",
    "        a = a[a > borders[i]]\n",
    "        sample.append(len(a))\n",
    "    return sample\n",
    "\n",
    "\n",
    "def calculate_delta_bootstrap(mean, sigma, edf):\n",
    "    previous_height = 0\n",
    "    delta = -1\n",
    "    for i in range(len(intervals)):\n",
    "        density_value = sps.norm.cdf(i, loc=mean, scale=sigma)\n",
    "        delta = max(abs(density_value - edf[i]), abs(density_value - previous_height), delta)\n",
    "        previous_height = edf[i]\n",
    "    delta *= sqrt(n)\n",
    "    return delta"
   ]
  },
  {
   "cell_type": "code",
   "execution_count": 12,
   "id": "dcbfcb07-231c-4b0a-ac8a-17012f7c8ac0",
   "metadata": {},
   "outputs": [
    {
     "name": "stderr",
     "output_type": "stream",
     "text": [
      "Bootstrap критерия Колмогорова p-value: 0.238: 100%|██████████| 50000/50000 [44:56<00:00, 18.54it/s]    "
     ]
    },
    {
     "name": "stdout",
     "output_type": "stream",
     "text": [
      "p-value по критерию Колмогорова: 0.238\n"
     ]
    },
    {
     "name": "stderr",
     "output_type": "stream",
     "text": [
      "\n"
     ]
    }
   ],
   "source": [
    "deltas = []\n",
    "\n",
    "k = 0\n",
    "pbar = tqdm(range(N))\n",
    "for i in pbar:\n",
    "    bsample = sps.norm(loc=mean, scale=sigma).rvs(100)\n",
    "    csample = calculate_sample(bsample)\n",
    "    bmean, bsigma = find_parameters(csample)\n",
    "    edf = calculate_edf(csample, 100)\n",
    "    bdelta = calculate_delta_bootstrap(bmean, bsigma, edf)\n",
    "    if bdelta > delta_kolm:\n",
    "        k += 1\n",
    "        \n",
    "    pbar.set_description(f\"Bootstrap критерия Колмогорова p-value: {k / N}\")\n",
    "\n",
    "print('p-value по критерию Колмогорова:', k / N)"
   ]
  }
 ],
 "metadata": {
  "kernelspec": {
   "display_name": "Python 3 (ipykernel)",
   "language": "python",
   "name": "python3"
  },
  "language_info": {
   "codemirror_mode": {
    "name": "ipython",
    "version": 3
   },
   "file_extension": ".py",
   "mimetype": "text/x-python",
   "name": "python",
   "nbconvert_exporter": "python",
   "pygments_lexer": "ipython3",
   "version": "3.9.12"
  }
 },
 "nbformat": 4,
 "nbformat_minor": 5
}
