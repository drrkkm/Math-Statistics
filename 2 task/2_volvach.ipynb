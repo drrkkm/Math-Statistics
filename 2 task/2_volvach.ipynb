{
 "cells": [
  {
   "cell_type": "code",
   "id": "initial_id",
   "metadata": {
    "collapsed": true,
    "ExecuteTime": {
     "end_time": "2024-05-19T19:29:33.103392Z",
     "start_time": "2024-05-19T19:29:33.089228Z"
    }
   },
   "source": [
    "import numpy as np\n",
    "import scipy.stats as sps\n",
    "import scipy.integrate as spi"
   ],
   "outputs": [],
   "execution_count": 1
  },
  {
   "metadata": {
    "ExecuteTime": {
     "end_time": "2024-05-19T19:39:48.198638Z",
     "start_time": "2024-05-19T19:39:48.183154Z"
    }
   },
   "cell_type": "code",
   "source": [
    "table = [\n",
    "    [83, 85],\n",
    "    [84, 85, 85, 86, 86, 87],\n",
    "    [86, 87, 87, 87, 88, 88, 88, 88, 88, 89, 90],\n",
    "    [89, 90, 90, 91],\n",
    "    [90, 92]\n",
    "]\n",
    "n = 25\n",
    "p = 4"
   ],
   "id": "46ee7a945a0f0677",
   "outputs": [],
   "execution_count": 12
  },
  {
   "metadata": {
    "ExecuteTime": {
     "end_time": "2024-05-19T19:29:56.186821Z",
     "start_time": "2024-05-19T19:29:56.155Z"
    }
   },
   "cell_type": "code",
   "source": [
    "sample = []\n",
    "for i, sample_ig in enumerate(table):\n",
    "    for _ in range(len(sample_ig)):\n",
    "        sample.append(np.eye(5)[i])\n",
    "\n",
    "sample = np.array(sample)"
   ],
   "id": "5a6bda9bfe075dd5",
   "outputs": [],
   "execution_count": 4
  },
  {
   "metadata": {
    "ExecuteTime": {
     "end_time": "2024-05-19T19:30:51.996101Z",
     "start_time": "2024-05-19T19:30:51.980236Z"
    }
   },
   "cell_type": "code",
   "source": "Y = [83, 85, 84, 85, 85, 86, 86, 87, 86, 87, 87, 87, 88, 88, 88, 88, 88, 89, 90, 89, 90, 90, 91, 90, 92]",
   "id": "aac191a0445507f4",
   "outputs": [],
   "execution_count": 5
  },
  {
   "metadata": {
    "ExecuteTime": {
     "end_time": "2024-05-19T19:35:15.631303Z",
     "start_time": "2024-05-19T19:35:15.593566Z"
    }
   },
   "cell_type": "code",
   "source": [
    "F = sample.T @ sample\n",
    "F_inv = np.linalg.inv(F)\n",
    "B = F_inv @ sample.T @ Y\n",
    "e = Y - sample @ B\n",
    "RSS = e.T @ e\n",
    "TSS = np.sum((Y - np.average(Y)) ** 2)\n",
    "R_2 = (TSS - RSS) / TSS"
   ],
   "id": "728beb42bf77cd63",
   "outputs": [],
   "execution_count": 6
  },
  {
   "metadata": {
    "ExecuteTime": {
     "end_time": "2024-05-19T19:36:01.700249Z",
     "start_time": "2024-05-19T19:36:01.694683Z"
    }
   },
   "cell_type": "code",
   "source": [
    "print(f'Коэффициенты регрессии: {B}')\n",
    "print(f'RSS регрессии: {RSS}')\n",
    "print(f'TSS регрессии: {TSS}')\n",
    "print(f'R^2 регрессии: {R_2}')"
   ],
   "id": "cc2dbb1bd9170a4",
   "outputs": [
    {
     "name": "stdout",
     "output_type": "stream",
     "text": [
      "Коэффициенты регрессии: [84.         85.5        87.81818182 90.         91.        ]\n",
      "RSS регрессии: 23.136363636363633\n",
      "TSS регрессии: 122.16\n",
      "R^2 регрессии: 0.8106060606060607\n"
     ]
    }
   ],
   "execution_count": 7
  },
  {
   "metadata": {
    "ExecuteTime": {
     "end_time": "2024-05-19T19:40:03.227472Z",
     "start_time": "2024-05-19T19:40:03.195556Z"
    }
   },
   "cell_type": "code",
   "source": [
    "delta = R_2 / (1 - R_2) * (n - p) / (p - 1)\n",
    "p_value = spi.quad(sps.f.pdf, delta, np.inf, args=(p - 1, n - p))[0]\n",
    "print(f'p_value: {p_value}')\n",
    "if p_value < 0.05:\n",
    "    print('Регрессия значима')\n",
    "else:\n",
    "    print('Регрессия не значима')"
   ],
   "id": "f7d8227b6557cc51",
   "outputs": [
    {
     "name": "stdout",
     "output_type": "stream",
     "text": [
      "p_value: 8.895768529347218e-08\n",
      "Регрессия значима\n"
     ]
    }
   ],
   "execution_count": 13
  },
  {
   "metadata": {
    "ExecuteTime": {
     "end_time": "2024-05-19T19:44:45.714527Z",
     "start_time": "2024-05-19T19:44:45.699768Z"
    }
   },
   "cell_type": "code",
   "source": [
    "deltas = [[] for _ in range(p - 1)]\n",
    "p_values = [[] for _ in range(p - 1)]\n",
    "\n",
    "for i in range(0, p - 1):\n",
    "    for j in range(i + 1, p):\n",
    "        b1 = B[i]\n",
    "        b2 = B[j]\n",
    "        \n",
    "        F_sum = F_inv[i][i] + F_inv[j][j]\n",
    "        \n",
    "        delta = (b1 - b2) / np.sqrt(RSS * F_sum) * np.sqrt(n - p)\n",
    "        p_value = sps.t.cdf(delta, n - p)\n",
    "        deltas[i].append(delta)\n",
    "        p_values[i].append(p_value)"
   ],
   "id": "584a0e19ec5f1d2f",
   "outputs": [],
   "execution_count": 16
  },
  {
   "metadata": {
    "ExecuteTime": {
     "end_time": "2024-05-19T19:45:24.972860Z",
     "start_time": "2024-05-19T19:45:24.962914Z"
    }
   },
   "cell_type": "code",
   "source": [
    "def flat(array):\n",
    "    result = []\n",
    "    for element in array:\n",
    "        for el in element:\n",
    "            result.append(el)\n",
    "    \n",
    "    return result"
   ],
   "id": "3bbb4997da59a0c8",
   "outputs": [],
   "execution_count": 17
  },
  {
   "metadata": {
    "ExecuteTime": {
     "end_time": "2024-05-19T19:45:38.503855Z",
     "start_time": "2024-05-19T19:45:38.490328Z"
    }
   },
   "cell_type": "code",
   "source": [
    "p_values = flat(p_values)\n",
    "deltas = flat(deltas)"
   ],
   "id": "22f8e5c5334c865b",
   "outputs": [],
   "execution_count": 18
  },
  {
   "metadata": {
    "ExecuteTime": {
     "end_time": "2024-05-19T19:46:24.468013Z",
     "start_time": "2024-05-19T19:46:24.456963Z"
    }
   },
   "cell_type": "code",
   "source": [
    "p_values = np.sort(p_values)\n",
    "for i, p_value in enumerate(p_values, 0):\n",
    "    if p_value > 0.05 / (10 - i):\n",
    "        print(i, p_value, 0.05 / (10 - i))"
   ],
   "id": "48c2a247057b1f48",
   "outputs": [
    {
     "name": "stdout",
     "output_type": "stream",
     "text": [
      "5 0.047337163681430906 0.01\n"
     ]
    }
   ],
   "execution_count": 20
  },
  {
   "metadata": {},
   "cell_type": "code",
   "outputs": [],
   "execution_count": null,
   "source": "",
   "id": "57de56a2108676ae"
  }
 ],
 "metadata": {
  "kernelspec": {
   "display_name": "Python 3",
   "language": "python",
   "name": "python3"
  },
  "language_info": {
   "codemirror_mode": {
    "name": "ipython",
    "version": 2
   },
   "file_extension": ".py",
   "mimetype": "text/x-python",
   "name": "python",
   "nbconvert_exporter": "python",
   "pygments_lexer": "ipython2",
   "version": "2.7.6"
  }
 },
 "nbformat": 4,
 "nbformat_minor": 5
}
