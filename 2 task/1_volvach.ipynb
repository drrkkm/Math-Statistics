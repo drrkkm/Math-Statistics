{
  "cells": [
    {
      "metadata": {
        "id": "983c5d4b411019d4"
      },
      "cell_type": "markdown",
      "source": [
        "# Задание 1"
      ],
      "id": "983c5d4b411019d4"
    },
    {
      "metadata": {
        "ExecuteTime": {
          "end_time": "2024-05-19T14:01:08.220307Z",
          "start_time": "2024-05-19T14:01:08.215301Z"
        },
        "id": "348c46a6ba263990"
      },
      "cell_type": "code",
      "source": [
        "import numpy as np\n",
        "import scipy.integrate as spi\n",
        "import scipy.stats as sps\n",
        "import seaborn as sns"
      ],
      "id": "348c46a6ba263990",
      "outputs": [],
      "execution_count": 1
    },
    {
      "metadata": {
        "ExecuteTime": {
          "end_time": "2024-05-19T10:07:39.071571Z",
          "start_time": "2024-05-19T10:07:39.067197Z"
        },
        "id": "1ff58a517ff20cfa"
      },
      "cell_type": "code",
      "source": [
        "def generate_vector():\n",
        "    x = np.random.uniform(-1, 1, 5)\n",
        "    y = np.random.normal(2 + 3*x[0] - 2*x[1] + x[2] + x[3] - x[4], 1.5, 1)[0]\n",
        "    x = np.append(x, y)\n",
        "    return x"
      ],
      "id": "1ff58a517ff20cfa",
      "outputs": [],
      "execution_count": 2
    },
    {
      "metadata": {
        "ExecuteTime": {
          "end_time": "2024-05-19T10:07:39.663317Z",
          "start_time": "2024-05-19T10:07:39.655601Z"
        },
        "id": "d354f483a81c735b"
      },
      "cell_type": "code",
      "source": [
        "sample = np.array([generate_vector() for _ in range(50)])"
      ],
      "id": "d354f483a81c735b",
      "outputs": [],
      "execution_count": 3
    },
    {
      "metadata": {
        "id": "5af0156a0b6dbadc"
      },
      "cell_type": "markdown",
      "source": [
        "Берем следующий базис: $\\{1, x_1, x_2, x_3, x_4, x_5\\}$\n",
        "\n",
        "$$R^2 = \\frac{TSS - RSS}{TSS}$$\n",
        "\n",
        "$$RSS = e^Te$$\n",
        "\n",
        "$$TSS = \\sum{(y_i - \\overline{y})^2}$$"
      ],
      "id": "5af0156a0b6dbadc"
    },
    {
      "metadata": {
        "ExecuteTime": {
          "end_time": "2024-05-19T10:16:52.481919Z",
          "start_time": "2024-05-19T10:16:52.467984Z"
        },
        "id": "71c6ac12a85a2bd7"
      },
      "cell_type": "code",
      "source": [
        "def linear_regression(Y_I, Y):\n",
        "    F = Y_I.T @ Y_I\n",
        "    F_inv = np.linalg.inv(F)\n",
        "    B = F_inv @ Y_I.T @ Y\n",
        "    e = Y - Y_I @ B\n",
        "    RSS = e.T @ e\n",
        "    TSS = np.sum((Y - np.average(Y)) ** 2)\n",
        "    R_2 = (TSS - RSS) / TSS\n",
        "    return [F, F_inv, B, e, RSS, TSS, R_2]"
      ],
      "id": "71c6ac12a85a2bd7",
      "outputs": [],
      "execution_count": 4
    },
    {
      "metadata": {
        "id": "f722f096ef34e672"
      },
      "cell_type": "markdown",
      "source": [
        "## Проверка на мультиколлинеарность"
      ],
      "id": "f722f096ef34e672"
    },
    {
      "metadata": {
        "ExecuteTime": {
          "end_time": "2024-05-19T10:30:45.327026Z",
          "start_time": "2024-05-19T10:30:45.301691Z"
        },
        "id": "39c83911c9d8ae6a"
      },
      "cell_type": "code",
      "source": [
        "Y_I = np.array([np.append(np.array([1]), el[:5]) for el in sample])\n",
        "Y = sample[:, 5]"
      ],
      "id": "39c83911c9d8ae6a",
      "outputs": [],
      "execution_count": 5
    },
    {
      "metadata": {
        "ExecuteTime": {
          "end_time": "2024-05-19T10:33:54.817577Z",
          "start_time": "2024-05-19T10:33:54.787737Z"
        },
        "colab": {
          "base_uri": "https://localhost:8080/"
        },
        "id": "4cda8607f2f62f4",
        "outputId": "01fd2f37-e2f0-49c7-817e-977d42768605"
      },
      "cell_type": "code",
      "source": [
        "for i in range(1, 6):\n",
        "    Y_I_temp = np.delete(Y_I, i, 1)\n",
        "    Y_temp = Y_I[:, i]\n",
        "\n",
        "    _, _, _, _, _, _, R_2_temp = linear_regression(Y_I_temp, Y_temp)\n",
        "    print(f\"R^2 для фактора {i}: {R_2_temp}\")\n",
        "    if R_2_temp >= 0.7:\n",
        "        print(f\"Фактор {i} сильно коррелирует с остальными\")\n",
        "    else:\n",
        "        print(f\"Фактор {i} не сильно коррелирует с остальными\")"
      ],
      "id": "4cda8607f2f62f4",
      "outputs": [
        {
          "output_type": "stream",
          "name": "stdout",
          "text": [
            "R^2 для фактора 1: 0.07814837559658484\n",
            "Фактор 1 не сильно коррелирует с остальными\n",
            "R^2 для фактора 2: 0.12433042655678803\n",
            "Фактор 2 не сильно коррелирует с остальными\n",
            "R^2 для фактора 3: 0.1136757919184232\n",
            "Фактор 3 не сильно коррелирует с остальными\n",
            "R^2 для фактора 4: 0.10824635974148972\n",
            "Фактор 4 не сильно коррелирует с остальными\n",
            "R^2 для фактора 5: 0.044274216127506386\n",
            "Фактор 5 не сильно коррелирует с остальными\n"
          ]
        }
      ],
      "execution_count": 6
    },
    {
      "metadata": {
        "id": "697fbc4aef0065b8"
      },
      "cell_type": "markdown",
      "source": [
        "## Уравнение регрессии"
      ],
      "id": "697fbc4aef0065b8"
    },
    {
      "metadata": {
        "ExecuteTime": {
          "end_time": "2024-05-19T16:51:58.898572Z",
          "start_time": "2024-05-19T16:51:58.879473Z"
        },
        "colab": {
          "base_uri": "https://localhost:8080/"
        },
        "id": "44f53be65bf7e3f",
        "outputId": "b0d2b255-4ad7-498d-c143-97ee65db31c0"
      },
      "cell_type": "code",
      "source": [
        "F, F_inv, B, e, RSS, TSS, R_2 = linear_regression(Y_I, Y)\n",
        "print(f\"Коэффициенты линейной регрессии: {B}\")\n",
        "print(f'RSS регрессии: {RSS}')\n",
        "print(f'TTS регрессии: {TSS}')"
      ],
      "id": "44f53be65bf7e3f",
      "outputs": [
        {
          "output_type": "stream",
          "name": "stdout",
          "text": [
            "Коэффициенты линейной регрессии: [ 2.31146429  3.18400582 -1.90749773  0.92144176  0.70922087 -1.16289769]\n",
            "RSS регрессии: 119.67569078816881\n",
            "TTS регрессии: 465.66069854639034\n"
          ]
        }
      ],
      "execution_count": 7
    },
    {
      "metadata": {
        "id": "ab32220def3e5200"
      },
      "cell_type": "markdown",
      "source": [
        "## Коэффициент детерминации и его значимость"
      ],
      "id": "ab32220def3e5200"
    },
    {
      "metadata": {
        "ExecuteTime": {
          "end_time": "2024-05-19T13:43:20.400847Z",
          "start_time": "2024-05-19T13:43:20.370501Z"
        },
        "colab": {
          "base_uri": "https://localhost:8080/"
        },
        "id": "e3994efb6536ac0e",
        "outputId": "6fa74b22-e1f0-4ca7-e7f3-57da7b6c86a9"
      },
      "cell_type": "code",
      "source": [
        "delta = R_2 / (1 - R_2) * (50 - 6) / (6 - 1)\n",
        "p_value = spi.quad(sps.f.pdf, delta, np.inf, args=(6 - 1, 50 - 6))[0]\n",
        "if p_value < 0.05:\n",
        "    print('Регрессия значима')\n",
        "else:\n",
        "    print('Регрессия не значима')"
      ],
      "id": "e3994efb6536ac0e",
      "outputs": [
        {
          "output_type": "stream",
          "name": "stdout",
          "text": [
            "Регрессия значима\n"
          ]
        }
      ],
      "execution_count": 8
    },
    {
      "metadata": {
        "id": "e4c43bb51b8b4fad"
      },
      "cell_type": "markdown",
      "source": [
        "## Значение в точке 0 и доверительный интервал"
      ],
      "id": "e4c43bb51b8b4fad"
    },
    {
      "metadata": {
        "ExecuteTime": {
          "end_time": "2024-05-19T13:46:31.177087Z",
          "start_time": "2024-05-19T13:46:31.161155Z"
        },
        "colab": {
          "base_uri": "https://localhost:8080/"
        },
        "id": "fc0e1efced097a8a",
        "outputId": "4a78f388-86cc-4741-ae78-a7590dd10c99"
      },
      "cell_type": "code",
      "source": [
        "x_0 = np.array([1, 0, 0, 0, 0, 0])\n",
        "y_0 = B @ x_0\n",
        "\n",
        "kappa = np.sqrt(1 + x_0 @ F_inv @ x_0.T)\n",
        "quantile = sps.t.pdf(0.975, 50 - 6)\n",
        "value = kappa * np.sqrt(RSS) / np.sqrt(50 - 6)\n",
        "left_border = y_0 - quantile * value\n",
        "right_border = y_0 + quantile * value\n",
        "print(f'Значение в точке 0: {y_0}')\n",
        "print(f'Доверительный интервал для значения в точке 0: [{left_border}, {right_border}]')"
      ],
      "id": "fc0e1efced097a8a",
      "outputs": [
        {
          "output_type": "stream",
          "name": "stdout",
          "text": [
            "Значение в точке 0: 2.3114642864687\n",
            "Доверительный интервал для значения в точке 0: [1.901821651037332, 2.7211069219000676]\n"
          ]
        }
      ],
      "execution_count": 9
    },
    {
      "metadata": {
        "id": "70c82ceda5ffc5ff"
      },
      "cell_type": "markdown",
      "source": [
        "## Независимость ошибок"
      ],
      "id": "70c82ceda5ffc5ff"
    },
    {
      "metadata": {
        "ExecuteTime": {
          "end_time": "2024-05-19T15:01:26.196651Z",
          "start_time": "2024-05-19T15:01:26.179486Z"
        },
        "colab": {
          "base_uri": "https://localhost:8080/"
        },
        "id": "ef5406fd8ad32eb4",
        "outputId": "49515949-329a-49a5-8a77-6a2d8bdcf924"
      },
      "cell_type": "code",
      "source": [
        "errors = []\n",
        "for y in Y:\n",
        "    errors.append(y - B[0] - B[1:] @ Y_I[0][1:])\n",
        "\n",
        "invs = 0\n",
        "for i in range(len(errors) - 1):\n",
        "    for j in range(i + 1, len(errors)):\n",
        "        if errors[j] < errors[i]:\n",
        "            invs += 1\n",
        "\n",
        "delta = (invs - 50 * (50 - 1) / 4) / np.sqrt(50 ** 3 / 36)\n",
        "p_value = spi.quad(sps.norm.pdf, np.abs(delta), np.inf)[0] * 2\n",
        "print(p_value, delta)\n",
        "print(f\"Ошибке распределены{(' не' if p_value < 0.05 else '')} независимо\")"
      ],
      "id": "ef5406fd8ad32eb4",
      "outputs": [
        {
          "output_type": "stream",
          "name": "stdout",
          "text": [
            "0.2663222771769011 -1.1115718600252527\n",
            "Ошибке распределены независимо\n"
          ]
        }
      ],
      "execution_count": 10
    },
    {
      "metadata": {
        "id": "1c9bba5f45e7bda8"
      },
      "cell_type": "markdown",
      "source": [
        "## Нормальность распределения ошибок"
      ],
      "id": "1c9bba5f45e7bda8"
    },
    {
      "metadata": {
        "id": "2831c5b883fd49ea"
      },
      "cell_type": "code",
      "outputs": [],
      "execution_count": 10,
      "source": [],
      "id": "2831c5b883fd49ea"
    },
    {
      "metadata": {
        "id": "85b8a583e8b77e78"
      },
      "cell_type": "markdown",
      "source": [
        "## Исследование регрессии на выбросы"
      ],
      "id": "85b8a583e8b77e78"
    },
    {
      "metadata": {
        "ExecuteTime": {
          "end_time": "2024-05-19T14:01:36.517988Z",
          "start_time": "2024-05-19T14:01:36.449347Z"
        },
        "colab": {
          "base_uri": "https://localhost:8080/",
          "height": 430
        },
        "id": "e69b30bae866e168",
        "outputId": "ff0fe718-be40-4ed8-ac53-21ce48649ef0"
      },
      "cell_type": "code",
      "source": [
        "sns.boxplot(data=e)"
      ],
      "id": "e69b30bae866e168",
      "outputs": [
        {
          "output_type": "execute_result",
          "data": {
            "text/plain": [
              "<Axes: >"
            ]
          },
          "metadata": {},
          "execution_count": 11
        },
        {
          "output_type": "display_data",
          "data": {
            "text/plain": [
              "<Figure size 640x480 with 1 Axes>"
            ],
            "image/png": "[encoded data removed]"
          },
          "metadata": {}
        }
      ],
      "execution_count": 11
    },
    {
      "metadata": {
        "ExecuteTime": {
          "end_time": "2024-05-19T14:19:45.398356Z",
          "start_time": "2024-05-19T14:19:45.377913Z"
        },
        "colab": {
          "base_uri": "https://localhost:8080/"
        },
        "id": "fb49d23d821ea55c",
        "outputId": "2571028b-06ff-41ec-e8c5-43aed40f17a9"
      },
      "cell_type": "code",
      "source": [
        "min_i = np.where(e == np.min(e))[0][0]\n",
        "max_i = np.where(e == np.max(e))[0][0]\n",
        "\n",
        "Y_I_n = np.delete(Y_I, [min_i, max_i], 0)\n",
        "Y_n = np.delete(Y, [min_i, max_i], 0)\n",
        "_, _, B_n, _, RSS_n, TSS_n, R_2_n =  linear_regression(Y_I_n, Y_n)\n",
        "print(f\"Коэффициенты регрессии: {B_n}\")\n",
        "print(f\"RSS регрессии: {RSS_n}\")\n",
        "print(f\"TSS регрессии: {TSS_n}\")\n",
        "print(f\"Коэффициент детерминации регрессии: {R_2_n}\")\n",
        "\n",
        "delta = R_2_n / (1 - R_2_n) * (48 - 6) / (6 - 1)\n",
        "p_value = spi.quad(sps.f.pdf, delta, np.inf, args=(4 - 1, 48 - 6))[0]\n",
        "if p_value < 0.05:\n",
        "    print('Регрессия значима')\n",
        "else:\n",
        "    print('Регрессия не значима')"
      ],
      "id": "fb49d23d821ea55c",
      "outputs": [
        {
          "output_type": "stream",
          "name": "stdout",
          "text": [
            "Коэффициенты регрессии: [ 2.2011559   2.84780119 -1.85844047  1.07784613  1.09794957 -1.07906557]\n",
            "RSS регрессии: 87.76351938223746\n",
            "TSS регрессии: 431.27992774697907\n",
            "Коэффициент детерминации регрессии: 0.7965045119518613\n",
            "Регрессия значима\n"
          ]
        }
      ],
      "execution_count": 12
    },
    {
      "metadata": {
        "id": "bb3976293753f79d"
      },
      "cell_type": "markdown",
      "source": [
        "## Кросс-проверка регрессии"
      ],
      "id": "bb3976293753f79d"
    },
    {
      "metadata": {
        "ExecuteTime": {
          "end_time": "2024-05-19T14:25:59.876514Z",
          "start_time": "2024-05-19T14:25:59.865300Z"
        },
        "colab": {
          "base_uri": "https://localhost:8080/"
        },
        "id": "4ee3ee6a1a9f284c",
        "outputId": "4e48cfd5-a249-45c6-e641-56686a54c86a"
      },
      "cell_type": "code",
      "source": [
        "CVSS = []\n",
        "for i in range(50):\n",
        "    Y_I_t = np.delete(Y_I, i, 0)\n",
        "    Y_t = np.delete(Y, i, 0)\n",
        "    _, _, B, *_ = linear_regression(Y_I_t, Y_t)\n",
        "\n",
        "    y_i = Y_I[i]\n",
        "    y = y_i @ B\n",
        "    CVSS.append((Y[i] - y) ** 2)\n",
        "\n",
        "TSS = np.sum((Y - np.average(Y)) ** 2)\n",
        "cvss = np.sum(CVSS)\n",
        "print(f\"CVSS регрессии: {cvss}\")\n",
        "print(f\"R^2_cvss регрессии: {(TSS - cvss) / TSS}\")"
      ],
      "id": "4ee3ee6a1a9f284c",
      "outputs": [
        {
          "output_type": "stream",
          "name": "stdout",
          "text": [
            "CVSS регрессии: 155.22776739948486\n",
            "R^2_cvss регрессии: 0.6666504863218113\n"
          ]
        }
      ],
      "execution_count": 13
    },
    {
      "metadata": {
        "id": "f2838b5a5f36eb1f"
      },
      "cell_type": "markdown",
      "source": [
        "## Адекватность регрессии"
      ],
      "id": "f2838b5a5f36eb1f"
    },
    {
      "metadata": {
        "ExecuteTime": {
          "end_time": "2024-05-19T14:57:40.755973Z",
          "start_time": "2024-05-19T14:57:40.734451Z"
        },
        "colab": {
          "base_uri": "https://localhost:8080/"
        },
        "id": "43b1a0ad9af7a87c",
        "outputId": "ec163616-c2cd-41b3-ec82-d313fe90df45"
      },
      "cell_type": "code",
      "source": [
        "x = [np.random.uniform(-1, 1) for _ in range(5)]\n",
        "y = [np.random.normal(2 + 3*x[0] - 2*x[1] + x[2] + x[3] - x[4], 1.5, 1)[0] for _ in range(5)]\n",
        "\n",
        "S_2 = np.sum((y - np.average(y)) ** 2) / 4\n",
        "delta = RSS / (50 - 6) / S_2\n",
        "p_value = 1 - spi.quad(sps.f.pdf, delta, np.inf, args=(50 - 6, 4))[0]\n",
        "print(f'Регрессия{\" не\" if p_value < 0.05 else \"\"} адекватна')"
      ],
      "id": "43b1a0ad9af7a87c",
      "outputs": [
        {
          "output_type": "stream",
          "name": "stdout",
          "text": [
            "Регрессия адекватна\n"
          ]
        }
      ],
      "execution_count": 14
    },
    {
      "metadata": {
        "id": "10ca10191998c1"
      },
      "cell_type": "markdown",
      "source": [
        "## Удаление переменной"
      ],
      "id": "10ca10191998c1"
    },
    {
      "metadata": {
        "ExecuteTime": {
          "end_time": "2024-05-19T17:01:19.319001Z",
          "start_time": "2024-05-19T17:01:19.308230Z"
        },
        "colab": {
          "base_uri": "https://localhost:8080/"
        },
        "id": "cfc97c954cebf69f",
        "outputId": "eaca4bf7-a01c-4891-bad6-ced3074f7290"
      },
      "cell_type": "code",
      "source": [
        "B_s = [(B - np.min(B)) / (np.max(B) - np.min(B))]\n",
        "index_b_min = np.where(B_s == np.min(B_s))[1][0]\n",
        "Y_I_s = np.delete(Y_I, index_b_min, 1)\n",
        "\n",
        "F_s = Y_I_s.T @ Y_I_s\n",
        "F_inv_s = np.linalg.inv(F_s)\n",
        "\n",
        "B_s = F_inv_s @ Y_I_s.T @ Y\n",
        "e_s = Y - Y_I_s @ B_s\n",
        "RSS_s = e_s.T @ e_s\n",
        "TSS_s = np.sum((Y - np.average(Y_I_s @ B_s)) ** 2)\n",
        "R_2_s = (TSS_s - RSS_s) / TSS_s\n",
        "\n",
        "print(f\"Коэффициенты регрессии: {B_s}\")\n",
        "print(f\"RSS регрессии: {RSS_s}\")\n",
        "print(f\"TSS регрессии: {TSS_s}\")\n",
        "print(f\"Коэффициент детерминации регрессии: {R_2_s}\")\n",
        "\n",
        "delta = R_2_s / (1 - R_2_s) * (50 - 5) / (5 - 1)\n",
        "p_value = spi.quad(sps.f.pdf, delta, np.inf, args=(5 - 1, 50 - 5))[0]\n",
        "if p_value < 0.05:\n",
        "    print('Регрессия значима')\n",
        "else:\n",
        "    print('Регрессия не значима')"
      ],
      "id": "cfc97c954cebf69f",
      "outputs": [
        {
          "output_type": "stream",
          "name": "stdout",
          "text": [
            "Коэффициенты регрессии: [ 2.55197763  3.34687809  1.3657685   1.19051252 -1.08544132]\n",
            "RSS регрессии: 190.3566246804569\n",
            "TSS регрессии: 465.66069854639034\n",
            "Коэффициент детерминации регрессии: 0.5912117443566196\n",
            "Регрессия значима\n"
          ]
        }
      ],
      "execution_count": 15
    },
    {
      "metadata": {
        "id": "b47dfc5e6eb4b14f"
      },
      "cell_type": "markdown",
      "source": [
        "## Сравнение регрессии и Bootstrap"
      ],
      "id": "b47dfc5e6eb4b14f"
    },
    {
      "metadata": {
        "ExecuteTime": {
          "end_time": "2024-05-19T17:09:26.962779Z",
          "start_time": "2024-05-19T17:09:26.949358Z"
        },
        "colab": {
          "base_uri": "https://localhost:8080/"
        },
        "id": "3cdb0e8273423630",
        "outputId": "721188da-bd4d-4a20-a743-eb4621940a44"
      },
      "cell_type": "code",
      "source": [
        "delta = (RSS_s - RSS) / RSS * (50 - 6)\n",
        "p_value = 1 - sps.f.cdf(np.abs(delta), 44, 1)\n",
        "print(p_value)"
      ],
      "id": "3cdb0e8273423630",
      "outputs": [
        {
          "output_type": "stream",
          "name": "stdout",
          "text": [
            "0.15461716647529622\n"
          ]
        }
      ],
      "execution_count": 16
    },
    {
      "metadata": {
        "ExecuteTime": {
          "end_time": "2024-05-19T16:29:04.854863Z",
          "start_time": "2024-05-19T16:29:04.808600Z"
        },
        "colab": {
          "base_uri": "https://localhost:8080/"
        },
        "id": "6d3d5f3af5a214b8",
        "outputId": "59569a46-0cf5-413d-ffbf-948c4918584a"
      },
      "cell_type": "code",
      "source": [
        "b_deltas = []\n",
        "N = 1000\n",
        "\n",
        "for _ in range(N):\n",
        "    b_indexes = np.random.choice(50, size=50)\n",
        "    b_x = Y_I_s[b_indexes]\n",
        "    b_y = Y[b_indexes]\n",
        "\n",
        "    _, _, _, _, RSS_b, TSS_b, _ = linear_regression(b_x, b_y)\n",
        "    b_deltas.append((RSS_b - RSS) / RSS * (50 - 6) / (6 - 5))\n",
        "\n",
        "b_deltas = np.sort(b_deltas)\n",
        "p_value = np.sum(delta < b_deltas) / len(b_deltas)\n",
        "print(p_value)"
      ],
      "id": "6d3d5f3af5a214b8",
      "outputs": [
        {
          "output_type": "stream",
          "name": "stdout",
          "text": [
            "0.262\n"
          ]
        }
      ],
      "execution_count": 17
    }
  ],
  "metadata": {
    "kernelspec": {
      "display_name": "Python 3",
      "language": "python",
      "name": "python3"
    },
    "language_info": {
      "codemirror_mode": {
        "name": "ipython",
        "version": 2
      },
      "file_extension": ".py",
      "mimetype": "text/x-python",
      "name": "python",
      "nbconvert_exporter": "python",
      "pygments_lexer": "ipython2",
      "version": "2.7.6"
    },
    "colab": {
      "provenance": []
    }
  },
  "nbformat": 4,
  "nbformat_minor": 5
}